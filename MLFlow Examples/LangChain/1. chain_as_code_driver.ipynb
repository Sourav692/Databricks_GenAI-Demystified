{
 "cells": [
  {
   "cell_type": "code",
   "execution_count": 0,
   "metadata": {
    "application/vnd.databricks.v1+cell": {
     "cellMetadata": {
      "byteLimit": 2048000,
      "rowLimit": 10000
     },
     "inputWidgets": {},
     "nuid": "b65e82f3-0b1c-41aa-bbda-fab87d6bf182",
     "showTitle": false,
     "tableResultSettingsMap": {},
     "title": ""
    }
   },
   "outputs": [],
   "source": [
    "%pip install -qq langchain mlflow[databricks]\n",
    "!pip install -qq langchain\n",
    "!pip install -qq langchain-core \n",
    "!pip install -qq langchain_openai"
   ]
  },
  {
   "cell_type": "code",
   "execution_count": 0,
   "metadata": {
    "application/vnd.databricks.v1+cell": {
     "cellMetadata": {
      "byteLimit": 2048000,
      "rowLimit": 10000
     },
     "inputWidgets": {},
     "nuid": "60901125-3e2f-4575-904d-aacbaf12f6f5",
     "showTitle": false,
     "tableResultSettingsMap": {},
     "title": ""
    }
   },
   "outputs": [],
   "source": [
    "dbutils.library.restartPython()"
   ]
  },
  {
   "cell_type": "code",
   "execution_count": 0,
   "metadata": {
    "application/vnd.databricks.v1+cell": {
     "cellMetadata": {
      "byteLimit": 2048000,
      "rowLimit": 10000
     },
     "inputWidgets": {},
     "nuid": "2379403e-516b-47a3-934e-d679029ff7ca",
     "showTitle": false,
     "tableResultSettingsMap": {},
     "title": ""
    }
   },
   "outputs": [],
   "source": [
    "# This is an example for logging a Langchain model from code using the\n",
    "# mlflow.langchain.log_model API. When a path to a valid Python script is submitted to the\n",
    "# lc_model argument, the model code itself is serialized instead of the model object.\n",
    "# Within the targeted script, the model implementation must be defined and set by\n",
    "# using the mlflow.models.set_model API.\n",
    "\n",
    "import mlflow\n",
    "\n",
    "input_example = {\n",
    "    \"messages\": [\n",
    "        {\n",
    "            \"role\": \"user\",\n",
    "            \"content\": \"What is Retrieval-augmented Generation?\",\n",
    "        }\n",
    "    ]\n",
    "}\n",
    "\n",
    "# Specify the path to the chain notebook\n",
    "chain_path = \"chain_as_code.py\"\n",
    "\n",
    "print(f\"Chain path: {chain_path}\")"
   ]
  },
  {
   "cell_type": "code",
   "execution_count": 0,
   "metadata": {
    "application/vnd.databricks.v1+cell": {
     "cellMetadata": {
      "byteLimit": 2048000,
      "rowLimit": 10000
     },
     "inputWidgets": {},
     "nuid": "66ecbad8-0d7a-4efc-a504-bba77ce38b60",
     "showTitle": false,
     "tableResultSettingsMap": {},
     "title": ""
    }
   },
   "outputs": [],
   "source": [
    "print(\"Logging model as code using Langchain log model API\")\n",
    "with mlflow.start_run():\n",
    "    logged_chain_info = mlflow.langchain.log_model(\n",
    "        lc_model=chain_path,\n",
    "        artifact_path=\"chain\",\n",
    "        input_example=input_example,\n",
    "    )\n",
    "\n",
    "print(\"Loading model using Langchain load model API\")\n",
    "model = mlflow.langchain.load_model(logged_chain_info.model_uri)\n",
    "output = model.invoke(input_example)\n",
    "print(f\"Output: {output}\")"
   ]
  },
  {
   "cell_type": "code",
   "execution_count": 0,
   "metadata": {
    "application/vnd.databricks.v1+cell": {
     "cellMetadata": {
      "byteLimit": 2048000,
      "rowLimit": 10000
     },
     "inputWidgets": {},
     "nuid": "89bb1041-22b5-4381-b438-78205f3cd40c",
     "showTitle": false,
     "tableResultSettingsMap": {},
     "title": ""
    }
   },
   "outputs": [],
   "source": [
    "logged_chain_info.model_uri"
   ]
  },
  {
   "cell_type": "code",
   "execution_count": 0,
   "metadata": {
    "application/vnd.databricks.v1+cell": {
     "cellMetadata": {
      "byteLimit": 2048000,
      "rowLimit": 10000
     },
     "inputWidgets": {},
     "nuid": "ac2b01e9-080a-4d09-986c-48556a81156b",
     "showTitle": false,
     "tableResultSettingsMap": {},
     "title": ""
    }
   },
   "outputs": [],
   "source": [
    "print(\"Loading model using Pyfunc load model API\")\n",
    "pyfunc_model = mlflow.pyfunc.load_model(logged_chain_info.model_uri)\n",
    "output = pyfunc_model.predict([input_example])\n",
    "print(f\"Output: {output}\")"
   ]
  },
  {
   "cell_type": "code",
   "execution_count": 0,
   "metadata": {
    "application/vnd.databricks.v1+cell": {
     "cellMetadata": {},
     "inputWidgets": {},
     "nuid": "f6027c68-f0ae-4962-925c-c401971ec6a3",
     "showTitle": false,
     "tableResultSettingsMap": {},
     "title": ""
    }
   },
   "outputs": [],
   "source": []
  }
 ],
 "metadata": {
  "application/vnd.databricks.v1+notebook": {
   "computePreferences": null,
   "dashboards": [],
   "environmentMetadata": {
    "base_environment": "dbe_41a50460-c90b-4840-9288-afcb847395d5",
    "environment_version": "2"
   },
   "inputWidgetPreferences": null,
   "language": "python",
   "notebookMetadata": {
    "pythonIndentUnit": 2
   },
   "notebookName": "1. chain_as_code_driver",
   "widgets": {}
  },
  "language_info": {
   "name": "python"
  }
 },
 "nbformat": 4,
 "nbformat_minor": 0
}
